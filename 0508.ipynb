{
  "nbformat": 4,
  "nbformat_minor": 0,
  "metadata": {
    "colab": {
      "provenance": [],
      "authorship_tag": "ABX9TyPPG3P5X+tjcD8ufJz+Szos",
      "include_colab_link": true
    },
    "kernelspec": {
      "name": "python3",
      "display_name": "Python 3"
    },
    "language_info": {
      "name": "python"
    }
  },
  "cells": [
    {
      "cell_type": "markdown",
      "metadata": {
        "id": "view-in-github",
        "colab_type": "text"
      },
      "source": [
        "<a href=\"https://colab.research.google.com/github/Chmjie/Introduction-to-Computers/blob/main/0508.ipynb\" target=\"_parent\"><img src=\"https://colab.research.google.com/assets/colab-badge.svg\" alt=\"Open In Colab\"/></a>"
      ]
    },
    {
      "cell_type": "code",
      "execution_count": 34,
      "metadata": {
        "colab": {
          "base_uri": "https://localhost:8080/"
        },
        "id": "lA2pEPMPawPP",
        "outputId": "c8b58f06-8776-4baa-92b0-f16e433f07a2"
      },
      "outputs": [
        {
          "output_type": "stream",
          "name": "stdout",
          "text": [
            "37.5\n",
            "體溫過高!\n"
          ]
        }
      ],
      "source": [
        "c=float(input())\n",
        "if(c>=0):\n",
        " if (c>=37.5):\n",
        "  print('體溫過高!')\n",
        " elif(c>=37.4):\n",
        "  print('體溫略高!')\n",
        " elif(c>=36.9):\n",
        "  print('體溫正常!')\n",
        " elif(c<34):\n",
        "  print('體溫異常,請重新測量!')"
      ]
    },
    {
      "cell_type": "code",
      "source": [
        "N=int(input('請輸入成績'))\n",
        "if(N>=0):\n",
        "  if(N>90):\n",
        "   print('A')\n",
        "  elif(N>=80):\n",
        "   print('B')\n",
        "  elif(N>=70):\n",
        "   print('C')\n",
        "  elif(N>=60):\n",
        "   print('D')\n",
        "  elif(N<60):\n",
        "   print('E')"
      ],
      "metadata": {
        "colab": {
          "base_uri": "https://localhost:8080/"
        },
        "id": "iRnqL1_jbU8-",
        "outputId": "622cd0d8-d560-4f2b-cf08-bf97cc176893"
      },
      "execution_count": 32,
      "outputs": [
        {
          "output_type": "stream",
          "name": "stdout",
          "text": [
            "請輸入成績90\n",
            "B\n"
          ]
        }
      ]
    },
    {
      "cell_type": "code",
      "source": [
        "month=int(input())\n",
        "if(month>=1 and month<=12):\n",
        " if(month==3 or month==4 or month==5):\n",
        "  print('{}月是春天!'.format(month))\n",
        " elif(month==6 or month==7 or month==8):\n",
        "  print('{}月是夏天!'.format(month))\n",
        " elif(month==9 or month==10 or month==11):\n",
        "  print('{}月是秋天!'.format(month))\n",
        " else:\n",
        "  print('{}月是冬天!'.format(month))\n",
        "else:\n",
        " print('月份不再範圍內')"
      ],
      "metadata": {
        "colab": {
          "base_uri": "https://localhost:8080/"
        },
        "id": "Clu_2rKqbUnn",
        "outputId": "aa315352-0780-4feb-fb78-532154d927c0"
      },
      "execution_count": 9,
      "outputs": [
        {
          "output_type": "stream",
          "name": "stdout",
          "text": [
            "13\n",
            "月份不再範圍內\n"
          ]
        }
      ]
    }
  ]
}